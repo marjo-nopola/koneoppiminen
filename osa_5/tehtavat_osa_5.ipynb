{
 "cells": [
  {
   "cell_type": "markdown",
   "metadata": {},
   "source": [
    "# Koneoppiminen: Osa 5: Pääkomponenttianalyysi"
   ]
  },
  {
   "cell_type": "code",
   "execution_count": null,
   "metadata": {
    "tags": [
     "student_info"
    ]
   },
   "outputs": [],
   "source": [
    "# Kirjoita tähän tietosi!\n",
    "student_name = 'Ei Ole Joten Ei Arvostella'\n",
    "student_id = '000000'"
   ]
  },
  {
   "cell_type": "markdown",
   "metadata": {},
   "source": [
    "## Tehtävä 1\n",
    "### Aihe: Kohdunkaulansyöpä\n",
    "\n",
    "2 pistettä\n",
    "\n",
    "Tutustu ja hae aineisto osoitteesta https://archive.ics.uci.edu/ml/datasets/Cervical+Cancer+Behavior+Risk .\n",
    "\n",
    "Lataa aineisto DataFrameen. Suorita tarvittava esikäsittely aineistolle. \n"
   ]
  },
  {
   "cell_type": "code",
   "execution_count": null,
   "metadata": {},
   "outputs": [],
   "source": [
    "# Kirjoita toteutuksesi tähän soluun. \n"
   ]
  },
  {
   "cell_type": "code",
   "execution_count": null,
   "metadata": {
    "tags": [
     "answer_5_1"
    ]
   },
   "outputs": [],
   "source": [
    "# Tehtävän vastaukset. Huom! Älä muokkaa tätä solua, vaan aja se, kun olet suorittanut tehtävän. \n",
    "# Tallenna tuloksesi df-muuttujaan.\n",
    "print(f'Length: {len(df)}')\n",
    "print(f'Columns: {df.columns}')"
   ]
  },
  {
   "cell_type": "markdown",
   "metadata": {},
   "source": [
    "## Tehtävä 2\n",
    "### Aihe: Pääkomponenttianalyysi\n",
    "\n",
    "3 pistettä\n",
    "\n",
    "Suorita aineistolle pääkomponenttianalyysi `scikit-learn`-kirjaston `decomposition`-moduulin [PCA](https://scikit-learn.org/stable/modules/generated/sklearn.decomposition.PCA.html)-menetelmällä. Tallenna  malli `pca`-muuttujaan. \n"
   ]
  },
  {
   "cell_type": "code",
   "execution_count": null,
   "metadata": {},
   "outputs": [],
   "source": [
    "# Kirjoita toteutuksesi tähän soluun. \n",
    "pca = None\n"
   ]
  },
  {
   "cell_type": "code",
   "execution_count": null,
   "metadata": {
    "tags": [
     "answer_5_2"
    ]
   },
   "outputs": [],
   "source": [
    "# Tehtävän vastaukset. Huom! Älä muokkaa tätä solua, vaan aja se, kun olet suorittanut tehtävän. \n",
    "# Tallenna mallisi pca-muuttujaan.\n",
    "print(f'Explained variance: {pca.explained_variance_ratio_}')"
   ]
  },
  {
   "cell_type": "markdown",
   "metadata": {},
   "source": [
    "## Tehtävä 3\n",
    "### Aihe: Visualistointi\n",
    "\n",
    "2 pistettä\n",
    "\n",
    "1. Piirrä hajontakuvio ensimmäisestä ja toisesta pääkomponentista. \n",
    "2. Väritä luokkamuuttujan mukaisesti terveet tapaukset sinisellä ympyrällä ja sairastuneet tapaukset oranssilla ruksilla. \n",
    "\n",
    "Vinkki: `seaborn`-kirjastossa 2D-kuvaajaan kätevät työkalut. "
   ]
  },
  {
   "cell_type": "code",
   "execution_count": null,
   "metadata": {},
   "outputs": [],
   "source": [
    "# Kirjoita toteutuksesi tähän soluun. \n"
   ]
  },
  {
   "cell_type": "code",
   "execution_count": null,
   "metadata": {
    "tags": [
     "answer_5_3"
    ]
   },
   "outputs": [],
   "source": [
    "# Tehtävän vastaukset. Huom! Älä muokkaa tätä solua, vaan aja se, kun olet suorittanut tehtävän. \n",
    "# Tee vastauksesi siten, että tämän solun tuloksena näkyy alla molemmat kaaviokuvat.\n",
    "ax.figure"
   ]
  },
  {
   "cell_type": "markdown",
   "metadata": {},
   "source": [
    "## Tehtävä 4\n",
    "## Aihe: 3D-visualisointi\n",
    "\n",
    "3 pistettä\n",
    "\n",
    "Piirrä myös hajontakuvio kolmesta ensimmäisestä pääkomponentista.\n",
    "\n",
    "Vinkki: 3D-kuvaajaan joutuu käyttämään `matplotlib`-kirjastoa."
   ]
  },
  {
   "cell_type": "code",
   "execution_count": null,
   "metadata": {},
   "outputs": [],
   "source": [
    "# Kirjoita toteutuksesi tähän soluun. \n"
   ]
  },
  {
   "cell_type": "code",
   "execution_count": null,
   "metadata": {
    "tags": [
     "answer_5_4"
    ]
   },
   "outputs": [],
   "source": [
    "# Tehtävän vastaukset. Huom! Älä muokkaa tätä solua, vaan aja se, kun olet suorittanut tehtävän. \n",
    "# Tee vastauksesi siten, että tämän solun tuloksena näkyy alla molemmat kaaviokuvat.\n",
    "ax.figure"
   ]
  }
 ],
 "metadata": {
  "kernelspec": {
   "display_name": "Python 3",
   "language": "python",
   "name": "python3"
  },
  "language_info": {
   "codemirror_mode": {
    "name": "ipython",
    "version": 3
   },
   "file_extension": ".py",
   "mimetype": "text/x-python",
   "name": "python",
   "nbconvert_exporter": "python",
   "pygments_lexer": "ipython3",
   "version": "3.8.5"
  }
 },
 "nbformat": 4,
 "nbformat_minor": 4
}
